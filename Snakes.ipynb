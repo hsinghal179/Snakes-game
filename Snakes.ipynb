{
 "cells": [
  {
   "cell_type": "code",
   "execution_count": 1,
   "metadata": {},
   "outputs": [
    {
     "name": "stdout",
     "output_type": "stream",
     "text": [
      "pygame 1.9.6\n",
      "Hello from the pygame community. https://www.pygame.org/contribute.html\n"
     ]
    },
    {
     "data": {
      "text/plain": [
       "(6, 0)"
      ]
     },
     "execution_count": 1,
     "metadata": {},
     "output_type": "execute_result"
    }
   ],
   "source": [
    "import pygame\n",
    "import random\n",
    "pygame.init()"
   ]
  },
  {
   "cell_type": "code",
   "execution_count": 2,
   "metadata": {},
   "outputs": [],
   "source": [
    "white= (255,255,255)                                                  #colours \n",
    "red= (255,0,0)\n",
    "black= (0,0,0)\n",
    "\n",
    "gwindow = pygame.display.set_mode((1200,600))            #Creating game window\n",
    "pygame.display.set_caption(\"Snakezzz\")\n",
    "pygame.display.update()\n",
    "\n",
    "def gameloop():\n",
    "    with open(\"highscore.txt\",\"r\") as f:\n",
    "        highscore = f. read()\n",
    "    exit_game = False                                        #Game specific variables\n",
    "    game_over = False\n",
    "    x=45\n",
    "    y=55\n",
    "    s=20\n",
    "    score=0\n",
    "    x_velo=0\n",
    "    y_velo=0\n",
    "    fps=90\n",
    "    foodx= random.randint(50,1150)\n",
    "    foody= random.randint(50,550)\n",
    "    clock=pygame.time.Clock()\n",
    "    font= pygame.font.SysFont(None,55)\n",
    "    snk_list = []\n",
    "    snk_length = 1\n",
    "\n",
    "    def plot_snake(gwindow, colour, snk_list, snk_size):\n",
    "        for x,y in snk_list:\n",
    "            pygame.draw.rect(gwindow, white, [x,y,s,s])\n",
    "\n",
    "    def text_screen(text, colour, a, b):\n",
    "        scrdis = font.render(text, True, colour)\n",
    "        gwindow.blit(scrdis, [a,b])\n",
    "\n",
    "    while not exit_game:                                     #Game loop\n",
    "        if game_over:\n",
    "            gwindow.fill(white)\n",
    "            text_screen(\"Score: \"+str(score), red, 500, 200)\n",
    "            for event in pygame.event.get():\n",
    "\n",
    "                if event.type == pygame.QUIT:\n",
    "                    exit_game = True\n",
    "\n",
    "                if event.type == pygame.KEYDOWN:\n",
    "                    if event.key == pygame.K_RETURN:\n",
    "                        gameloop()\n",
    "\n",
    "        else:\n",
    "            for event in pygame.event.get():\n",
    "\n",
    "                if event.type == pygame.QUIT:\n",
    "                    exit_game = True\n",
    "\n",
    "                if event.type == pygame.KEYDOWN:\n",
    "                    if event.key == pygame.K_RIGHT:\n",
    "                        x_velo= 2.5\n",
    "                        y_velo=0\n",
    "                    if event.key == pygame.K_LEFT:\n",
    "                        x_velo= -2.5\n",
    "                        y_velo=0\n",
    "                    if event.key == pygame.K_DOWN:\n",
    "                        y_velo= 2.5\n",
    "                        x_velo=0\n",
    "                    if event.key == pygame.K_UP:\n",
    "                        y_velo= -2.5\n",
    "                        x_velo=0\n",
    "            if abs(x-foodx)<10 and abs(y-foody)<10:\n",
    "                score+=1\n",
    "                foodx= random.randint(50,1150)\n",
    "                foody= random.randint(50,550)\n",
    "                snk_length+= 10\n",
    "\n",
    "\n",
    "            x+= x_velo\n",
    "            y+= y_velo\n",
    "\n",
    "            gwindow.fill(black)\n",
    "            text_screen(\"Score:\"+str(score), red, 5, 5)\n",
    "            #pygame.draw.rect(gwindow, white, [x,y,s,s])\n",
    "            pygame.draw.rect(gwindow, red, [foodx,foody,s,s])\n",
    "\n",
    "            head = []\n",
    "            head.append(x)\n",
    "            head.append(y)\n",
    "            snk_list.append(head)\n",
    "            if len(snk_list)> snk_length:\n",
    "                del snk_list[0]\n",
    "            \n",
    "            if head in snk_list[:-1]:\n",
    "                game_over = True\n",
    "\n",
    "            if x<0 or x>1200 or y<0 or y>600:\n",
    "                game_over = True\n",
    "\n",
    "            plot_snake(gwindow, black, snk_list, s)\n",
    "\n",
    "        pygame.display.update() \n",
    "        clock.tick(fps)\n",
    "\n",
    "    pygame.quit()\n",
    "    quit()\n",
    "gameloop()"
   ]
  }
 ],
 "metadata": {
  "kernelspec": {
   "display_name": "Python 3",
   "language": "python",
   "name": "python3"
  },
  "language_info": {
   "codemirror_mode": {
    "name": "ipython",
    "version": 3
   },
   "file_extension": ".py",
   "mimetype": "text/x-python",
   "name": "python",
   "nbconvert_exporter": "python",
   "pygments_lexer": "ipython3",
   "version": "3.6.5"
  }
 },
 "nbformat": 4,
 "nbformat_minor": 2
}
